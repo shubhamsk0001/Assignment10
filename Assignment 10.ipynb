{
 "cells": [
  {
   "cell_type": "code",
   "execution_count": null,
   "id": "20be4550",
   "metadata": {},
   "outputs": [],
   "source": [
    "1. How do you distinguish between shutil.copy() and shutil.copytree()?"
   ]
  },
  {
   "cell_type": "code",
   "execution_count": null,
   "id": "3fc0f382",
   "metadata": {},
   "outputs": [],
   "source": [
    "The shutil.copy() function will copy a single file, \n",
    "while \n",
    "shutil.copytree() will copy an entire folder, along with all its contents."
   ]
  },
  {
   "cell_type": "code",
   "execution_count": null,
   "id": "390e81e2",
   "metadata": {},
   "outputs": [],
   "source": [
    "2. What function is used to rename files?"
   ]
  },
  {
   "cell_type": "code",
   "execution_count": null,
   "id": "e9556dca",
   "metadata": {},
   "outputs": [],
   "source": [
    "The shutil.move() function is used for renaming files, as well as moving them."
   ]
  },
  {
   "cell_type": "code",
   "execution_count": null,
   "id": "a26df1e9",
   "metadata": {},
   "outputs": [],
   "source": [
    "3. What is the difference between the delete functions in the send2trash and shutil modules?"
   ]
  },
  {
   "cell_type": "code",
   "execution_count": null,
   "id": "c8780b8c",
   "metadata": {},
   "outputs": [],
   "source": [
    "The send2trash functions will move a file or folder to the recycle bin,\n",
    "while \n",
    "shutil functions will permanently delete files and folders."
   ]
  },
  {
   "cell_type": "code",
   "execution_count": null,
   "id": "a5d6a2cb",
   "metadata": {},
   "outputs": [],
   "source": [
    "4.ZipFile objects have a close() method just like File objects’ close() method. What ZipFile method is\n",
    "equivalent to File objects’ open() method?"
   ]
  },
  {
   "cell_type": "code",
   "execution_count": null,
   "id": "79bc5ed3",
   "metadata": {},
   "outputs": [],
   "source": [
    "The zipfile.ZipFile() function is equivalent to the open() function. The first argument is the filename, and\n",
    "the second argument is the mode to open the ZIP file in (read, write, or append)."
   ]
  },
  {
   "cell_type": "code",
   "execution_count": null,
   "id": "72b37890",
   "metadata": {},
   "outputs": [],
   "source": [
    "5. Create a programme that searches a folder tree for files with a certain file extension (such as .pdf\n",
    "or .jpg). Copy these files from whatever location they are in to a new folder."
   ]
  },
  {
   "cell_type": "code",
   "execution_count": null,
   "id": "0d182af3",
   "metadata": {},
   "outputs": [],
   "source": [
    " import os, shutil\n",
    "\n",
    "sourcePath = input(\"Enter the absolute path of the source folder:\")\n",
    " fileExtType = input(\"Enter the type of file to copy (such as .pdf or .jpg):\").lower()\n",
    " destPath = input(\"Enter the absolute path of the destination folder:\")\n",
    "\n",
    "for foldername, subfolders, filenames in os.walk(sourcePath):\n",
    "    for filename in filenames:\n",
    "        if filename.lower().endswith(fileExtType):\n",
    "            #print(foldername + ‘\\\\’ + filename)\n",
    "            copySourcePath = os.path.join(foldername, filename)\n",
    "            #print(copySourcePath)\n",
    "            shutil.copy(copySourcePath, destPath)\n",
    "        else:\n",
    "            continue"
   ]
  }
 ],
 "metadata": {
  "kernelspec": {
   "display_name": "Python 3 (ipykernel)",
   "language": "python",
   "name": "python3"
  },
  "language_info": {
   "codemirror_mode": {
    "name": "ipython",
    "version": 3
   },
   "file_extension": ".py",
   "mimetype": "text/x-python",
   "name": "python",
   "nbconvert_exporter": "python",
   "pygments_lexer": "ipython3",
   "version": "3.9.12"
  }
 },
 "nbformat": 4,
 "nbformat_minor": 5
}
